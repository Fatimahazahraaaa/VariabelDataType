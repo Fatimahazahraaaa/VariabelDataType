{
 "cells": [
  {
   "cell_type": "code",
   "execution_count": 7,
   "id": "bbef0a54-7043-4893-b22a-30ea4c5ffc4d",
   "metadata": {},
   "outputs": [
    {
     "name": "stdout",
     "output_type": "stream",
     "text": [
      "1\n",
      "2\n",
      "3\n",
      "4\n",
      "5\n",
      "6\n",
      "7\n",
      "8\n",
      "9\n",
      "10\n"
     ]
    }
   ],
   "source": [
    "# For in range\n",
    "# Print 1 - 10\n",
    "\n",
    "for i in range(1,11):\n",
    "    print(i)\n",
    "    "
   ]
  },
  {
   "cell_type": "code",
   "execution_count": 11,
   "id": "ff008b1b-2747-4d78-b670-661da81c496c",
   "metadata": {},
   "outputs": [
    {
     "name": "stdout",
     "output_type": "stream",
     "text": [
      "10\n",
      "20\n",
      "30\n",
      "40\n",
      "50\n",
      "60\n",
      "70\n",
      "80\n",
      "90\n",
      "100\n"
     ]
    }
   ],
   "source": [
    "#print 10 20 30 40 50 --- 100\n",
    "for i in range(1,11):\n",
    "    print(i*10)\n"
   ]
  },
  {
   "cell_type": "code",
   "execution_count": 13,
   "id": "f5e7274d-9658-44a4-97e5-e9524baac05e",
   "metadata": {},
   "outputs": [
    {
     "name": "stdout",
     "output_type": "stream",
     "text": [
      "10\n",
      "20\n",
      "30\n",
      "40\n",
      "50\n",
      "60\n",
      "70\n",
      "80\n",
      "90\n",
      "100\n"
     ]
    }
   ],
   "source": [
    "for i in range(10,110,10):\n",
    "    print(i)"
   ]
  },
  {
   "cell_type": "code",
   "execution_count": 16,
   "id": "a0d8b94f-f1ad-493f-a44b-58fcc60a393f",
   "metadata": {},
   "outputs": [
    {
     "name": "stdout",
     "output_type": "stream",
     "text": [
      "10\n",
      "9\n",
      "8\n",
      "7\n",
      "6\n",
      "5\n",
      "4\n",
      "3\n",
      "2\n",
      "1\n"
     ]
    }
   ],
   "source": [
    "# 10 9 8 7 ---1\n",
    "for i in range(10,0,-1):\n",
    "    print(i)"
   ]
  },
  {
   "cell_type": "code",
   "execution_count": 25,
   "id": "4cdecb43-4c3e-4ec7-91f1-9e6be7d683fe",
   "metadata": {},
   "outputs": [
    {
     "name": "stdout",
     "output_type": "stream",
     "text": [
      "1\n",
      "-2\n",
      "3\n",
      "-4\n",
      "5\n",
      "-6\n",
      "7\n",
      "-8\n",
      "9\n",
      "-10\n"
     ]
    }
   ],
   "source": [
    "# 1 -2 3 -4 5 -6 7 -8 9 -10\n",
    "sign = 1\n",
    "for i in range(1,11):\n",
    "    print(i*sign)\n",
    "    sign *= -1\n",
    "    "
   ]
  },
  {
   "cell_type": "code",
   "execution_count": 32,
   "id": "68cad4ab-4578-4645-8a8a-59b7badd59fb",
   "metadata": {},
   "outputs": [
    {
     "name": "stdin",
     "output_type": "stream",
     "text": [
      "Isikan Bilangan: 4\n"
     ]
    },
    {
     "name": "stdout",
     "output_type": "stream",
     "text": [
      "Faktorial dari 4! adalah 24\n"
     ]
    }
   ],
   "source": [
    "# Faktorial => input 4! = 4 * 3 * 2 * 1 = 24\n",
    "number = int(input(\"Isikan Bilangan:\"))\n",
    "\n",
    "result = 1\n",
    "for i in range(1, number +1):\n",
    "    result = result * i\n",
    "print(f\"Faktorial dari {number}! adalah {result}\")\n",
    "    "
   ]
  },
  {
   "cell_type": "code",
   "execution_count": 38,
   "id": "3b68206e-c2a9-48b3-be07-96fd3fae9c32",
   "metadata": {},
   "outputs": [
    {
     "name": "stdin",
     "output_type": "stream",
     "text": [
      "Isikan Bilangan: 2\n",
      "Isikan Pangkat: 3\n"
     ]
    },
    {
     "name": "stdout",
     "output_type": "stream",
     "text": [
      "2 pangkat 3 adalah 8\n"
     ]
    }
   ],
   "source": [
    "#Pangkat => input 2^3 = 2 * 2* 2 = 8\n",
    "number = int(input(\"Isikan Bilangan:\"))\n",
    "pangkat = int(input(\"Isikan Pangkat:\"))\n",
    "\n",
    "result = 1\n",
    "for i in range(1, pangkat +1):\n",
    "    result = result * number\n",
    "print(f\"{number} pangkat {pangkat} adalah {result}\")\n",
    "    "
   ]
  },
  {
   "cell_type": "code",
   "execution_count": 7,
   "id": "db1360af-9ed4-4beb-bda3-fb8524b3d161",
   "metadata": {},
   "outputs": [
    {
     "name": "stdin",
     "output_type": "stream",
     "text": [
      "Isikan Bilangan: 3\n"
     ]
    },
    {
     "name": "stdout",
     "output_type": "stream",
     "text": [
      "3 adalah Bilangan Prima\n"
     ]
    }
   ],
   "source": [
    "# cek bilangan prima\n",
    "#Bil. prima adalah bilangan yang habis  dibagi bilangan itu\n",
    "# sendiri dan 1\n",
    "#Bil. prima punya 2 faktor\n",
    "#jika number % i == 0 maka nilai faktor di increment(+1)\n",
    "#setelah selesai perulangan, jika faktor == 2 maka bilangan prima\n",
    "\n",
    "\n",
    "number = int(input(\"Isikan Bilangan:\"))\n",
    "faktor = 0\n",
    "for i in range(1, number+1):\n",
    "    sisa = number % i\n",
    "    if number % i == 0:\n",
    "        faktor = faktor + 1\n",
    "if faktor == 2:\n",
    "    keterangan = \"Bilangan Prima\"\n",
    "else:\n",
    "    keterangan = \"Bukan Bilangan Prima\"\n",
    "    \n",
    "print(f\"{number} adalah {keterangan}\")\n",
    "        \n"
   ]
  },
  {
   "cell_type": "code",
   "execution_count": 15,
   "id": "0f2ccd9a-63a4-4be7-a167-2afcbde5d562",
   "metadata": {},
   "outputs": [
    {
     "name": "stdout",
     "output_type": "stream",
     "text": [
      "22\n",
      "U\n",
      " \n",
      "0 U\n",
      "1 n\n",
      "2 i\n",
      "3 v\n",
      "4 e\n",
      "5 r\n",
      "6 s\n",
      "7 i\n",
      "8 t\n",
      "9 a\n",
      "10 s\n",
      "11  \n",
      "12 N\n",
      "13 u\n",
      "14 s\n",
      "15 a\n",
      "16  \n",
      "17 P\n",
      "18 u\n",
      "19 t\n",
      "20 r\n",
      "21 a\n"
     ]
    }
   ],
   "source": [
    "kampus = \"Universitas Nusa Putra\" #panjang 22\n",
    "print(len(kampus))\n",
    "print(kampus[0])\n",
    "for i, huruf in enumerate(kampus):\n",
    "    print(i, huruf)"
   ]
  },
  {
   "cell_type": "code",
   "execution_count": 21,
   "id": "912e088a-bfc5-40bb-8fc7-9d77f49abf8e",
   "metadata": {},
   "outputs": [
    {
     "name": "stdout",
     "output_type": "stream",
     "text": [
      "Jumlah huruf a:3\n",
      "Jumlah huruf i:2\n",
      "Jumah huruf u:3\n",
      "Jumlah huruf e:1\n",
      "Jumlah huruf o:0\n",
      "Jumlah huruf vocal:9\n"
     ]
    }
   ],
   "source": [
    "#Menghitung jumlah huruf vocal a i u e o\n",
    "kampus = \"Universitas Nusa Putra\" #panjang 22\n",
    "panjang = len(kampus)\n",
    "\n",
    "vocal_a = 0\n",
    "vocal_i = 0\n",
    "vocal_u = 0\n",
    "vocal_e = 0\n",
    "vocal_o = 0\n",
    "\n",
    "for i in range(0,panjang):\n",
    "    if kampus[i]==\"a\" or kampus[i]==\"A\":\n",
    "        vocal_a +=1\n",
    "    elif kampus[i]==\"i\" or kampus[i]==\"I\":\n",
    "        vocal_i +=1\n",
    "    elif kampus[i]==\"u\" or kampus[i]==\"U\":\n",
    "        vocal_u +=1\n",
    "    elif kampus[i]==\"e\" or kampus[i]==\"E\":\n",
    "        vocal_e +=1\n",
    "    elif kampus[i]==\"o\" or kampus[i]==\"O\":\n",
    "        vocal_o +=1\n",
    "    \n",
    "print(f\"Jumlah huruf a:{vocal_a}\")\n",
    "print(f\"Jumlah huruf i:{vocal_i}\")\n",
    "print(f\"Jumah huruf u:{vocal_u}\")\n",
    "print(f\"Jumlah huruf e:{vocal_e}\")\n",
    "print(f\"Jumlah huruf o:{vocal_o}\")\n",
    "print(f\"Jumlah huruf vocal:{vocal_a+vocal_i+vocal_u+vocal_e+vocal_o}\")\n",
    "    "
   ]
  },
  {
   "cell_type": "code",
   "execution_count": 3,
   "id": "bbe33ac3-6dd1-4646-8508-e913e62e5c19",
   "metadata": {},
   "outputs": [
    {
     "name": "stdin",
     "output_type": "stream",
     "text": [
      "Isikan Kalimat: AKA\n"
     ]
    },
    {
     "name": "stdout",
     "output_type": "stream",
     "text": [
      "AKA adalah Palindrome\n"
     ]
    },
    {
     "name": "stdin",
     "output_type": "stream",
     "text": [
      "Apakah Mau Mengulang Program: Y/T T\n"
     ]
    }
   ],
   "source": [
    "ulang = \"Y\"\n",
    "while(ulang==\"Y\" or ulang==\"y\"):\n",
    "    kalimat = input(\"Isikan Kalimat:\")\n",
    "    panjang_kalimat = len(kalimat)\n",
    "\n",
    "#Mengecek kalimat palindrome atau bukan\n",
    "#palindrome => kalimat yang dibaca dari kiri ke kanan\n",
    "#kanan > kekiri itu sama\n",
    "#katak => palindrome\n",
    "#kasur susak => palindrome\n",
    "    isPalindrome = True\n",
    "    for i in range(0,panjang_kalimat):\n",
    "        urut = kalimat[i]\n",
    "        kebalikan=kalimat[panjang_kalimat -i -1]\n",
    "        if urut != kebalikan:\n",
    "            isPalindrome = False\n",
    "            break\n",
    "    if isPalindrome==True:\n",
    "        print(f\"{kalimat} adalah Palindrome\")\n",
    "    else:\n",
    "        print(f\"{kalimat} adalah Bukan Palindrome\")\n",
    "    ulang = input(\"Apakah Mau Mengulang Program: Y/T\")"
   ]
  },
  {
   "cell_type": "code",
   "execution_count": 4,
   "id": "2158681c-b24d-44a7-b38d-807c0d77177c",
   "metadata": {},
   "outputs": [
    {
     "name": "stdout",
     "output_type": "stream",
     "text": [
      "i: 1 dan j: 1\n",
      "i: 1 dan j: 2\n",
      "i: 1 dan j: 3\n",
      "i: 1 dan j: 4\n",
      "i: 2 dan j: 1\n",
      "i: 2 dan j: 2\n",
      "i: 2 dan j: 3\n",
      "i: 2 dan j: 4\n",
      "i: 3 dan j: 1\n",
      "i: 3 dan j: 2\n",
      "i: 3 dan j: 3\n",
      "i: 3 dan j: 4\n",
      "i: 4 dan j: 1\n",
      "i: 4 dan j: 2\n",
      "i: 4 dan j: 3\n",
      "i: 4 dan j: 4\n"
     ]
    }
   ],
   "source": [
    "#Nested for\n",
    "for i in range(1,5):\n",
    "    for j in range(1,5):\n",
    "        print(f\"i: {i} dan j: {j}\")"
   ]
  },
  {
   "cell_type": "code",
   "execution_count": null,
   "id": "70176486-42b7-49d1-8325-62acddc7e50d",
   "metadata": {},
   "outputs": [],
   "source": []
  }
 ],
 "metadata": {
  "kernelspec": {
   "display_name": "Python 3 (ipykernel)",
   "language": "python",
   "name": "python3"
  },
  "language_info": {
   "codemirror_mode": {
    "name": "ipython",
    "version": 3
   },
   "file_extension": ".py",
   "mimetype": "text/x-python",
   "name": "python",
   "nbconvert_exporter": "python",
   "pygments_lexer": "ipython3",
   "version": "3.11.7"
  }
 },
 "nbformat": 4,
 "nbformat_minor": 5
}
