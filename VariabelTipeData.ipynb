{
 "cells": [
  {
   "cell_type": "markdown",
   "id": "a1b24933",
   "metadata": {},
   "source": [
    "<h1>Belajar Variabel dan Tipe Data</h1><hr>\n",
    "Tipe Data di Python yaitu <b>Integer, Float, Boolean, String, Complex</b>"
   ]
  },
  {
   "cell_type": "code",
   "execution_count": 3,
   "id": "80e79a0d",
   "metadata": {},
   "outputs": [
    {
     "name": "stdout",
     "output_type": "stream",
     "text": [
      "100\n",
      "<class 'int'>\n"
     ]
    }
   ],
   "source": [
    "data_integer = 100\n",
    "data_integer\n",
    "print(data_integer)\n",
    "print(type(data_integer))"
   ]
  },
  {
   "cell_type": "code",
   "execution_count": 4,
   "id": "5c69ce29",
   "metadata": {},
   "outputs": [
    {
     "name": "stdout",
     "output_type": "stream",
     "text": [
      "10.5\n",
      "<class 'float'>\n"
     ]
    }
   ],
   "source": [
    "data_float = 10.5\n",
    "print(data_float)\n",
    "print(type(data_float))"
   ]
  },
  {
   "cell_type": "code",
   "execution_count": 25,
   "id": "9c3090c6",
   "metadata": {},
   "outputs": [
    {
     "name": "stdout",
     "output_type": "stream",
     "text": [
      "False\n",
      "<class 'bool'>\n"
     ]
    }
   ],
   "source": [
    "data_bool = False\n",
    "print(data_bool)\n",
    "print(type(data_bool))"
   ]
  },
  {
   "cell_type": "code",
   "execution_count": 21,
   "id": "64d23df5",
   "metadata": {},
   "outputs": [
    {
     "name": "stdout",
     "output_type": "stream",
     "text": [
      "10\n",
      "<class 'str'>\n"
     ]
    }
   ],
   "source": [
    "data_string = \"10\"\n",
    "print(data_string)\n",
    "print(type(data_string))"
   ]
  },
  {
   "cell_type": "code",
   "execution_count": 14,
   "id": "bc63f644",
   "metadata": {},
   "outputs": [
    {
     "name": "stdout",
     "output_type": "stream",
     "text": [
      "(5+6j)\n",
      "<class 'complex'>\n"
     ]
    }
   ],
   "source": [
    "data_complex = complex(5,6)\n",
    "print(data_complex)\n",
    "print(type(data_complex))"
   ]
  },
  {
   "cell_type": "markdown",
   "id": "270faae1",
   "metadata": {},
   "source": [
    "<h2>Casting</h2><hr>\n",
    "<font color=\"rainbow\">Casting</font><br> adalah proses melakukan konversi tipe data <br>\n",
    "<ol>\n",
    "    <li>Sintak Casting menggunakan (tipe data) </li>\n",
    "    <li>Casting dapat dilakukan untuk semua tipe data</li>\n",
    "</ol>"
   ]
  },
  {
   "cell_type": "code",
   "execution_count": 15,
   "id": "391825fe",
   "metadata": {},
   "outputs": [
    {
     "name": "stdout",
     "output_type": "stream",
     "text": [
      "100\n",
      "100.0\n",
      "True\n",
      "<class 'str'>\n",
      "<class 'float'>\n",
      "<class 'bool'>\n"
     ]
    }
   ],
   "source": [
    "int_to_string = str(data_integer)\n",
    "int_to_float = float(data_integer)\n",
    "int_to_bool = bool(data_integer)\n",
    "\n",
    "print(int_to_string)\n",
    "print(int_to_float)\n",
    "print(int_to_bool)\n",
    "\n",
    "print(type(int_to_string))\n",
    "print(type(int_to_float))\n",
    "print(type(int_to_bool))"
   ]
  },
  {
   "cell_type": "code",
   "execution_count": 22,
   "id": "c407572a",
   "metadata": {},
   "outputs": [
    {
     "name": "stdout",
     "output_type": "stream",
     "text": [
      "10\n",
      "10.0\n",
      "True\n",
      "<class 'int'>\n",
      "<class 'float'>\n",
      "<class 'bool'>\n"
     ]
    }
   ],
   "source": [
    "string_to_int = int(data_string)\n",
    "string_to_float = float(data_string)\n",
    "string_to_bool = bool(data_string)\n",
    "\n",
    "print(string_to_int)\n",
    "print(string_to_float)\n",
    "print(string_to_bool)\n",
    "\n",
    "print(type(string_to_int))\n",
    "print(type(string_to_float))\n",
    "print(type(string_to_bool))"
   ]
  },
  {
   "cell_type": "code",
   "execution_count": 23,
   "id": "8c4883f6",
   "metadata": {},
   "outputs": [
    {
     "name": "stdout",
     "output_type": "stream",
     "text": [
      "10\n",
      "10.5\n",
      "True\n",
      "<class 'int'>\n",
      "<class 'str'>\n",
      "<class 'bool'>\n"
     ]
    }
   ],
   "source": [
    "float_to_int = int(data_float)\n",
    "float_to_string = str(data_float)\n",
    "float_to_bool = bool(data_float)\n",
    "\n",
    "print(float_to_int)\n",
    "print(float_to_string)\n",
    "print(float_to_bool)\n",
    "\n",
    "print(type(float_to_int))\n",
    "print(type(float_to_string))\n",
    "print(type(float_to_bool))"
   ]
  },
  {
   "cell_type": "code",
   "execution_count": 26,
   "id": "d17863ba",
   "metadata": {},
   "outputs": [
    {
     "name": "stdout",
     "output_type": "stream",
     "text": [
      "0\n",
      "False\n",
      "0.0\n",
      "<class 'int'>\n",
      "<class 'str'>\n",
      "<class 'float'>\n"
     ]
    }
   ],
   "source": [
    "bool_to_int = int(data_bool)\n",
    "bool_to_string = str(data_bool)\n",
    "bool_to_float = float(data_bool)\n",
    "\n",
    "print(bool_to_int)\n",
    "print(bool_to_string)\n",
    "print(bool_to_float)\n",
    "\n",
    "print(type(bool_to_int))\n",
    "print(type(bool_to_string))\n",
    "print(type(bool_to_float))"
   ]
  },
  {
   "cell_type": "code",
   "execution_count": null,
   "id": "f63454f8",
   "metadata": {},
   "outputs": [],
   "source": []
  }
 ],
 "metadata": {
  "kernelspec": {
   "display_name": "Python 3 (ipykernel)",
   "language": "python",
   "name": "python3"
  },
  "language_info": {
   "codemirror_mode": {
    "name": "ipython",
    "version": 3
   },
   "file_extension": ".py",
   "mimetype": "text/x-python",
   "name": "python",
   "nbconvert_exporter": "python",
   "pygments_lexer": "ipython3",
   "version": "3.9.12"
  }
 },
 "nbformat": 4,
 "nbformat_minor": 5
}
