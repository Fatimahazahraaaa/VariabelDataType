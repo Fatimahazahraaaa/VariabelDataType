{
 "cells": [
  {
   "cell_type": "code",
   "execution_count": 1,
   "id": "37a965a3",
   "metadata": {},
   "outputs": [
    {
     "name": "stdout",
     "output_type": "stream",
     "text": [
      "Isikan Nama AwalSiti\n",
      "Isikan Nama TengahFatimah\n",
      "Isikan Nama AkhirAzzahra\n",
      "Selamat Datang Siti Fatimah Azzahra S.Kom\n"
     ]
    }
   ],
   "source": [
    "fname = input('Isikan Nama Awal')\n",
    "mname = input('Isikan Nama Tengah')\n",
    "Iname = input('Isikan Nama Akhir')\n",
    "\n",
    "print('Selamat Datang', fname,mname,Iname, \"S.Kom\")\n",
    "\n"
   ]
  },
  {
   "cell_type": "code",
   "execution_count": 6,
   "id": "38e24714",
   "metadata": {},
   "outputs": [
    {
     "name": "stdout",
     "output_type": "stream",
     "text": [
      "Isikan Bilangan 1:3\n",
      "Isikan Bilangan 2:3\n",
      "<class 'str'>\n",
      "Hasil Penjumlahan 6\n"
     ]
    }
   ],
   "source": [
    "bil1 = input('Isikan Bilangan 1:')\n",
    "bil2 = input('Isikan Bilangan 2:')\n",
    "print(type(bil1))\n",
    "hasil = int(bil1) + int(bil2)\n",
    "print('Hasil Penjumlahan', hasil)"
   ]
  },
  {
   "cell_type": "code",
   "execution_count": 14,
   "id": "c94963f3",
   "metadata": {},
   "outputs": [
    {
     "name": "stdout",
     "output_type": "stream",
     "text": [
      "Isikan Panjang:5\n",
      "Isikan Luas:5\n",
      "Luas Persegi Panjang 25\n",
      "keliling Persegi Panjang 20\n"
     ]
    }
   ],
   "source": [
    "#Luas => p*l\n",
    "#keliling=> 2*(p+l)|\n",
    "p= input('Isikan Panjang:')\n",
    "l= input('Isikan Luas:')\n",
    "\n",
    "luas= int(p) * int(l)\n",
    "keliling= 2 * (int(p) +int(l))\n",
    "\n",
    "print('Luas Persegi Panjang', luas)\n",
    "print('keliling Persegi Panjang', keliling)             "
   ]
  },
  {
   "cell_type": "code",
   "execution_count": 16,
   "id": "4bb80e84",
   "metadata": {},
   "outputs": [
    {
     "name": "stdout",
     "output_type": "stream",
     "text": [
      "Januari###Februari###Maret###April\n"
     ]
    }
   ],
   "source": [
    "print(\"Januari\", \"Februari\",\"Maret\", \"April\", sep=\"#\"*3)"
   ]
  },
  {
   "cell_type": "code",
   "execution_count": 21,
   "id": "a2307b03",
   "metadata": {},
   "outputs": [
    {
     "name": "stdout",
     "output_type": "stream",
     "text": [
      "Senin@Selasa@Rabu@Kamis@Jumat@Sabtu@Minggu^-^^-^"
     ]
    }
   ],
   "source": [
    "print(\"Senin\",\"Selasa\",\"Rabu\",\"Kamis\",\"Jumat\",\"Sabtu\",\"Minggu\", sep='@', end=\"^-^\"*2)"
   ]
  },
  {
   "cell_type": "code",
   "execution_count": 27,
   "id": "d4a84da4",
   "metadata": {},
   "outputs": [
    {
     "name": "stdout",
     "output_type": "stream",
     "text": [
      "Senin\n",
      "Selasa\n",
      "Rabu\n",
      "Kamis\n",
      "Jumat\n",
      "Sabtu\n",
      "Minggu^-^"
     ]
    }
   ],
   "source": [
    "print(\"Senin\",\"Selasa\",\"Rabu\",\"Kamis\",\"Jumat\",\"Sabtu\",\"Minggu\", sep='\\n', end=\"^-^\")"
   ]
  },
  {
   "cell_type": "code",
   "execution_count": 29,
   "id": "65cb1d4d",
   "metadata": {},
   "outputs": [
    {
     "name": "stdout",
     "output_type": "stream",
     "text": [
      "perkalian 3 dengan 5 adalah 15\n"
     ]
    }
   ],
   "source": [
    "number1 = 3\n",
    "number2 = 5\n",
    "#Hasil perkalian 3 dengan 5 adalah 15\n",
    "print('perkalian {} dengan {} adalah {}'.format(number1, number2,number1 * number2))"
   ]
  },
  {
   "cell_type": "code",
   "execution_count": 37,
   "id": "8a992b20",
   "metadata": {},
   "outputs": [
    {
     "name": "stdout",
     "output_type": "stream",
     "text": [
      "Urutan Huruf Fatimah Siti Azzahra\n"
     ]
    }
   ],
   "source": [
    "first_letter = \"Siti\"\n",
    "middle_letter = \"Fatimah\"\n",
    "last_letter = \"Azzahra\"\n",
    "\n",
    "print(\"Urutan Huruf {1} {0} {2}\".format(first_letter,middle_letter,last_letter))"
   ]
  },
  {
   "cell_type": "code",
   "execution_count": 56,
   "id": "1df63fbe",
   "metadata": {},
   "outputs": [
    {
     "name": "stdout",
     "output_type": "stream",
     "text": [
      "Sekarang tanggal 20 Bulan Maret Tahun2024\n"
     ]
    }
   ],
   "source": [
    "#Sekarang tanggal 20 bulan Maret Tahun 2024\n",
    "print (\"Sekarang tanggal {tanggal} Bulan {bulan} Tahun{tahun}\". format(tanggal='20',bulan='Maret',tahun='2024'))"
   ]
  },
  {
   "cell_type": "code",
   "execution_count": 77,
   "id": "701db5be",
   "metadata": {},
   "outputs": [
    {
     "name": "stdout",
     "output_type": "stream",
     "text": [
      "Huruf Pertama adalah: U\n",
      "Huruf Terakhir adalah: a\n",
      "Huruf Range 12-22: Nusa Putra\n",
      "Nusa Putra\n",
      "Putra\n",
      "artuP asuN satisrevinU\n"
     ]
    }
   ],
   "source": [
    "kampus = \"Universitas Nusa Putra\"\n",
    "print(\"Huruf Pertama adalah:\",kampus[0])\n",
    "print(\"Huruf Terakhir adalah:\",kampus[-1])\n",
    "print(\"Huruf Range 12-22:\",kampus[12:22])\n",
    "print(kampus[12:])\n",
    "print(kampus[-5:])\n",
    "#Reverse String\n",
    "print(kampus[::-1])"
   ]
  },
  {
   "cell_type": "code",
   "execution_count": 82,
   "id": "eefd6213",
   "metadata": {},
   "outputs": [
    {
     "name": "stdout",
     "output_type": "stream",
     "text": [
      "['Jakarta', 'Sukabumi', 'Malang', 'Bandung', 'Surabaya']\n",
      "Jakarta\n",
      "Jakarta-Sukabumi-Malang-Bandung-Surabaya\n"
     ]
    }
   ],
   "source": [
    "#Split => String -> list\n",
    "Kota = \"Jakarta Sukabumi Malang Bandung Surabaya\"\n",
    "list_kota = Kota.split()\n",
    "print(list_kota)\n",
    "print(list_kota[0])\n",
    "#Join => List-> string\n",
    "join_kota = \"-\".join(list_kota)\n",
    "print(join_kota)"
   ]
  },
  {
   "cell_type": "code",
   "execution_count": 6,
   "id": "4c15d0e3",
   "metadata": {},
   "outputs": [
    {
     "name": "stdout",
     "output_type": "stream",
     "text": [
      "Isikan Nama AndaSiti Fatimah\n",
      "Isikan Tanggal Lahir10/08/2001\n",
      "Nama Awal :  Siti\n",
      "Nama Akhir:  Fatimah\n",
      "Tgl Lahir: 10\n",
      "Bulan Lahir: Agustus\n",
      "Tahun Lahir 2001\n",
      "Nama Inisial: SF\n"
     ]
    }
   ],
   "source": [
    "#Isikan Nama Anda: Siti Fatimah\n",
    "#Isikan Tanggal Lahir: 10/08/2001\n",
    "#Output:\n",
    "#Nama Awal: Siti\n",
    "#Nama Akhir\n",
    "#Tgl Lahir\n",
    "#Bulan Lahir\n",
    "#Tahun Lahir\n",
    "#Nama Inisial\n",
    "\n",
    "nama = input(\"Isikan Nama Anda\")\n",
    "tgl = input(\"Isikan Tanggal Lahir\")\n",
    "\n",
    "\n",
    "list_nama = nama.split()\n",
    "print(\"Nama Awal : \" ,list_nama[0])\n",
    "print(\"Nama Akhir: \" ,list_nama[1])\n",
    "\n",
    "list_tgl = tgl.split('/')\n",
    "print('Tgl Lahir:', list_tgl[0])\n",
    "keterangan=\"\"\n",
    "if list_tgl[1]==\"01\":\n",
    "    keterangan= \"Januari\"\n",
    "elif list_tgl[1]==\"02\":\n",
    "    keterangan= \"Februari\"\n",
    "elif list_tgl[1]==\"03\":\n",
    "    keterangan=\"Maret\"\n",
    "elif list_tgl[1]==\"04\":\n",
    "    keterangan=\"April\"\n",
    "elif list_tgl[1]==\"05\":\n",
    "    keterangan=\"Mei\"\n",
    "elif list_tgl[1]==\"06\":\n",
    "    keterangan=\"Juni\"\n",
    "elif list_tgl[1]==\"07\":\n",
    "    keterangan=\"Juli\"\n",
    "elif list_tgl[1]==\"08\":\n",
    "    keterangan=\"Agustus\"\n",
    "elif list_tgl[1]==\"09\":\n",
    "    keterangan=\"September\"\n",
    "elif list_tgl[1]==\"10\":\n",
    "    keterangan=\"Oktober\"\n",
    "elif list_tgl[1]==\"11\":\n",
    "    keterangan=\"November\"\n",
    "elif list_tgl[1]==\"12\":\n",
    "    keterangan=\"Desember\"\n",
    "print('Bulan Lahir:', keterangan)\n",
    "print('Tahun Lahir', list_tgl[2])\n",
    "\n",
    "Inisial = list_nama[0][0] + list_nama[1][0]\n",
    "print('Nama Inisial:', Inisial)\n"
   ]
  },
  {
   "cell_type": "code",
   "execution_count": null,
   "id": "7b8981d6",
   "metadata": {},
   "outputs": [],
   "source": []
  }
 ],
 "metadata": {
  "kernelspec": {
   "display_name": "Python 3 (ipykernel)",
   "language": "python",
   "name": "python3"
  },
  "language_info": {
   "codemirror_mode": {
    "name": "ipython",
    "version": 3
   },
   "file_extension": ".py",
   "mimetype": "text/x-python",
   "name": "python",
   "nbconvert_exporter": "python",
   "pygments_lexer": "ipython3",
   "version": "3.9.12"
  }
 },
 "nbformat": 4,
 "nbformat_minor": 5
}
